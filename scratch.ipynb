{
 "cells": [
  {
   "cell_type": "code",
   "execution_count": 2,
   "metadata": {},
   "outputs": [],
   "source": [
    "import tensorflow as tf\n",
    "import numpy as np"
   ]
  },
  {
   "cell_type": "code",
   "execution_count": 7,
   "metadata": {},
   "outputs": [],
   "source": [
    "model = tf.keras.Sequential([tf.keras.layers.Dense(32)])"
   ]
  },
  {
   "cell_type": "code",
   "execution_count": 4,
   "metadata": {},
   "outputs": [
    {
     "name": "stdout",
     "output_type": "stream",
     "text": [
      "<tensorflow.python.keras.engine.sequential.Sequential object at 0x7f69f475ceb8>\n"
     ]
    }
   ],
   "source": [
    "model.build([None, 3])\n",
    "print(model)"
   ]
  },
  {
   "cell_type": "code",
   "execution_count": 15,
   "metadata": {},
   "outputs": [
    {
     "name": "stdout",
     "output_type": "stream",
     "text": [
      "<tensorflow.python.keras.callbacks.ReduceLROnPlateau object at 0x7f698c12e7f0>\n"
     ]
    }
   ],
   "source": [
    "opt = tf.keras.optimizers.SGD(0.1)\n",
    "baselogger = tf.keras.callbacks.ReduceLROnPlateau()\n",
    "model.callbacks= [baselogger]\n",
    "model.optimizer = opt\n",
    "print(model.callbacks[0])"
   ]
  },
  {
   "cell_type": "code",
   "execution_count": 17,
   "metadata": {},
   "outputs": [
    {
     "ename": "TypeError",
     "evalue": "'NoneType' object is not iterable",
     "output_type": "error",
     "traceback": [
      "\u001b[0;31m---------------------------------------------------------------------------\u001b[0m",
      "\u001b[0;31mTypeError\u001b[0m                                 Traceback (most recent call last)",
      "\u001b[0;32m<ipython-input-17-e311f29bb25f>\u001b[0m in \u001b[0;36m<module>\u001b[0;34m\u001b[0m\n\u001b[0;32m----> 1\u001b[0;31m \u001b[0;32mfor\u001b[0m \u001b[0mi\u001b[0m \u001b[0;32min\u001b[0m \u001b[0;32mNone\u001b[0m\u001b[0;34m:\u001b[0m\u001b[0;34m\u001b[0m\u001b[0;34m\u001b[0m\u001b[0m\n\u001b[0m\u001b[1;32m      2\u001b[0m     \u001b[0mprint\u001b[0m\u001b[0;34m(\u001b[0m\u001b[0mi\u001b[0m\u001b[0;34m)\u001b[0m\u001b[0;34m\u001b[0m\u001b[0;34m\u001b[0m\u001b[0m\n",
      "\u001b[0;31mTypeError\u001b[0m: 'NoneType' object is not iterable"
     ]
    }
   ],
   "source": [
    "for i in None:\n",
    "    print(i)"
   ]
  },
  {
   "cell_type": "code",
   "execution_count": 46,
   "metadata": {},
   "outputs": [
    {
     "name": "stdout",
     "output_type": "stream",
     "text": [
      "N, C, H, W: [64, 256, 64, 64]\n",
      "(64, 64, 64, 256) (3, 3, 8, 256)\n",
      "Loop=True, Format=NHWC, Forward: 84.15945928093085 itr/s\n",
      "Loop=True, Format=NHWC,  Forward-Backward: 55.92312216237774 itr/s\n",
      "(64, 64, 64, 256) (3, 3, 8, 256)\n",
      "Loop=False, Format=NHWC, Forward: 156.84641150557434 itr/s\n",
      "Loop=False, Format=NHWC,  Forward-Backward: 98.38231233412873 itr/s\n",
      "(64, 256, 64, 64) (3, 3, 8, 256)\n",
      "Loop=True, Format=NCHW, Forward: 104.09903200573638 itr/s\n",
      "Loop=True, Format=NCHW,  Forward-Backward: 63.83993698434464 itr/s\n",
      "(64, 256, 64, 64) (3, 3, 8, 256)\n",
      "Loop=False, Format=NCHW, Forward: 188.0797542247718 itr/s\n",
      "Loop=False, Format=NCHW,  Forward-Backward: 118.61153408803331 itr/s\n"
     ]
    }
   ],
   "source": [
    "import tensorflow as tf\n",
    "import time\n",
    "import numpy as np\n",
    "import os\n",
    "\n",
    "N = 64\n",
    "C = 256\n",
    "G = 32\n",
    "H, W = 64, 64\n",
    "print(\"N, C, H, W:\", [N, C, H, W])\n",
    "\n",
    "\n",
    "def benchmark_all(use_loop, format):\n",
    "    shape4d = [N, C, H, W] if format == 'NCHW' else [N, H, W, C]\n",
    "\n",
    "    input = tf.Variable(np.random.rand(*shape4d), dtype=tf.float32)\n",
    "    filter_shape = [3, 3, C // G, C]\n",
    "    filter = tf.Variable(np.random.rand(*filter_shape), dtype=tf.float32)\n",
    "    print(input.shape, filter.shape)\n",
    "\n",
    "    @tf.function\n",
    "    def forward(use_loop):\n",
    "        if use_loop:\n",
    "            inputs = tf.split(input, G, axis=1 if format == 'NCHW' else 3)\n",
    "            filters = tf.split(filter, G, axis=3)\n",
    "            output = tf.concat(\n",
    "                [tf.nn.conv2d(i, f,\n",
    "                    strides=[1,1,1,1],\n",
    "                    padding='SAME',\n",
    "                    data_format=format) for i, f in zip(inputs, filters)], axis=1 if format == 'NCHW' else 3)\n",
    "        else:\n",
    "            output = tf.nn.conv2d(input, filter, strides=[1, 1, 1, 1], padding='SAME', data_format=format)\n",
    "        cost = tf.reduce_sum(output)\n",
    "        return cost\n",
    "    \n",
    "    optim = tf.keras.optimizers.SGD(0.1)\n",
    "    \n",
    "    @tf.function\n",
    "    def forward_backward(use_loop):\n",
    "        with tf.GradientTape() as tape:\n",
    "            cost = forward(use_loop)\n",
    "            gradients = tape.gradient(cost, filter)\n",
    "            optim.apply_gradients([[gradients, filter]])\n",
    "\n",
    "    def benchmark(op, nr_iter=200, nr_warmup=10):\n",
    "        for k in range(nr_warmup):\n",
    "            op(use_loop)\n",
    "        start = time.perf_counter()\n",
    "        for k in range(nr_iter):\n",
    "            op(use_loop)\n",
    "        end = time.perf_counter()\n",
    "        itr_per_sec = nr_iter * 1. / (end - start)\n",
    "        return itr_per_sec\n",
    "\n",
    "\n",
    "\n",
    "    spd_forward = benchmark(forward)\n",
    "    print(\"Loop={}, Format={}, Forward: {} itr/s\".format(use_loop, format, spd_forward))\n",
    "    spd_backward = benchmark(forward_backward)\n",
    "    print(\"Loop={}, Format={},  Forward-Backward: {} itr/s\".format(use_loop, format, spd_backward))\n",
    "\n",
    "\n",
    "formats = ['NHWC', 'NCHW']\n",
    "for format in formats:\n",
    "    for use_loop in [True, False]:\n",
    "        benchmark_all(use_loop, format)"
   ]
  },
  {
   "cell_type": "code",
   "execution_count": null,
   "metadata": {},
   "outputs": [],
   "source": []
  }
 ],
 "metadata": {
  "kernelspec": {
   "display_name": "Python 3",
   "language": "python",
   "name": "python3"
  },
  "language_info": {
   "codemirror_mode": {
    "name": "ipython",
    "version": 3
   },
   "file_extension": ".py",
   "mimetype": "text/x-python",
   "name": "python",
   "nbconvert_exporter": "python",
   "pygments_lexer": "ipython3",
   "version": "3.6.9"
  }
 },
 "nbformat": 4,
 "nbformat_minor": 2
}
